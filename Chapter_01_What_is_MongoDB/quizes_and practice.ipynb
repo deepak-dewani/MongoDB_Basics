{
 "cells": [
  {
   "cell_type": "markdown",
   "metadata": {},
   "source": [
    "# Chapter 1: What is MongoDB?\n",
    "\n",
    "## Quiz: What is MongoDB?\n",
    "### Problem:\n",
    "\n",
    "### Why is MongoDB a NoSQL database?\n",
    "\n",
    "### Answer:\n",
    "\n",
    "1. Because it uses a structured way to store and access data\n",
    "\n",
    "2. Because it does not utilize tables, rows and columns to organize data\n",
    "\n",
    "\n",
    "\n",
    "\n",
    "## Quiz 2: What is a Document?\n",
    "\n",
    "### Problem:\n",
    "### In MongoDB how does a document relate to a collection?\n",
    "\n",
    "\n",
    "\n",
    "### Answer:\n",
    "Collections consist of one or many documents."
   ]
  },
  {
   "cell_type": "markdown",
   "metadata": {},
   "source": []
  },
  {
   "cell_type": "markdown",
   "metadata": {},
   "source": []
  },
  {
   "cell_type": "markdown",
   "metadata": {},
   "source": []
  },
  {
   "cell_type": "markdown",
   "metadata": {},
   "source": []
  },
  {
   "cell_type": "markdown",
   "metadata": {},
   "source": []
  },
  {
   "cell_type": "markdown",
   "metadata": {},
   "source": []
  },
  {
   "cell_type": "markdown",
   "metadata": {},
   "source": []
  }
 ],
 "metadata": {
  "interpreter": {
   "hash": "9ddfba760c93d0781cb88c4db9a31eb68ca4e1616821530f19d735f356a5c9ec"
  },
  "kernelspec": {
   "display_name": "Python 3.8.10 64-bit",
   "language": "python",
   "name": "python3"
  },
  "language_info": {
   "codemirror_mode": {
    "name": "ipython",
    "version": 3
   },
   "file_extension": ".py",
   "mimetype": "text/x-python",
   "name": "python",
   "nbconvert_exporter": "python",
   "pygments_lexer": "ipython3",
   "version": "3.8.10"
  },
  "orig_nbformat": 4
 },
 "nbformat": 4,
 "nbformat_minor": 2
}
